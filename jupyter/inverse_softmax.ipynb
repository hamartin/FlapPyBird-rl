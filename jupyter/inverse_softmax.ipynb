{
 "cells": [
  {
   "cell_type": "markdown",
   "id": "2fd47e82",
   "metadata": {},
   "source": [
    "# try to do the inverse of softmax\n",
    "\n",
    "$$\n",
    "\\text{softmax}(o)_i = \\frac{\\exp(o_i)}{\\sum_{j=1}^k \\exp(o_j)}\n",
    "$$"
   ]
  },
  {
   "cell_type": "markdown",
   "id": "610dfd71",
   "metadata": {},
   "source": [
    "We want to know what values of $o_i$ will give $\\text{softmax}(o)_0 = 0.9$ and $\\text{softmax}(o)_1 = 0.1$"
   ]
  },
  {
   "cell_type": "markdown",
   "id": "e09d94fe",
   "metadata": {},
   "source": [
    "$$\n",
    "0.9 = \\frac{\\exp(o_1)}{\\exp(o_1) + \\exp(o_2)}\n",
    "$$"
   ]
  },
  {
   "cell_type": "markdown",
   "id": "c028288a",
   "metadata": {},
   "source": [
    "$$\n",
    "0.9(\\exp(o_1) + \\exp(o_2) = \\exp(o_1)\n",
    "$$"
   ]
  },
  {
   "cell_type": "markdown",
   "id": "7fabf0d7",
   "metadata": {},
   "source": [
    "$$\n",
    "0.1\\exp(o_1) = \\exp(o_2)\n",
    "$$"
   ]
  },
  {
   "cell_type": "markdown",
   "id": "b46c22b0",
   "metadata": {},
   "source": [
    "We have:"
   ]
  },
  {
   "cell_type": "markdown",
   "id": "483c2a46",
   "metadata": {},
   "source": [
    "$$\n",
    "\\exp(a + b) = \\exp(a)\\exp(b)\n",
    "$$"
   ]
  },
  {
   "cell_type": "markdown",
   "id": "dba9468b",
   "metadata": {},
   "source": [
    "and:"
   ]
  },
  {
   "cell_type": "markdown",
   "id": "45d6d085",
   "metadata": {},
   "source": [
    "$$\n",
    "\\log(ab) = \\log(a) + \\log(b)\n",
    "$$"
   ]
  },
  {
   "cell_type": "markdown",
   "id": "d2bd6e6f",
   "metadata": {},
   "source": [
    "and:"
   ]
  },
  {
   "cell_type": "markdown",
   "id": "5f7e6f6f",
   "metadata": {},
   "source": [
    "$$\n",
    "\\log(a/b) = \\log(a) - \\log(b)\n",
    "$$"
   ]
  },
  {
   "cell_type": "markdown",
   "id": "70d95af4",
   "metadata": {},
   "source": [
    "$$\n",
    "0.1 = \\exp(o_2)\\exp(-o_1)\n",
    "$$"
   ]
  },
  {
   "cell_type": "markdown",
   "id": "2563ef93",
   "metadata": {},
   "source": [
    "$$\n",
    "0.1 = \\exp(o_2 - o_1)\n",
    "$$"
   ]
  },
  {
   "cell_type": "markdown",
   "id": "5ceffce1",
   "metadata": {},
   "source": [
    "$$\n",
    "o_2 - o_1 = \\log(0.1)\n",
    "$$"
   ]
  },
  {
   "cell_type": "markdown",
   "id": "66f373f4",
   "metadata": {},
   "source": [
    "$$\n",
    "o_2 = o_1 + \\log(0.1)\n",
    "$$"
   ]
  }
 ],
 "metadata": {
  "kernelspec": {
   "display_name": "Python 3 (ipykernel)",
   "language": "python",
   "name": "python3"
  },
  "language_info": {
   "codemirror_mode": {
    "name": "ipython",
    "version": 3
   },
   "file_extension": ".py",
   "mimetype": "text/x-python",
   "name": "python",
   "nbconvert_exporter": "python",
   "pygments_lexer": "ipython3",
   "version": "3.8.5"
  }
 },
 "nbformat": 4,
 "nbformat_minor": 5
}
